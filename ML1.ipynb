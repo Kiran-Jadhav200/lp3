{
 "cells": [
  {
   "cell_type": "code",
   "execution_count": 1,
   "id": "de728233-67ad-43eb-8cf5-35d7e62b7512",
   "metadata": {},
   "outputs": [],
   "source": [
    "import pandas as pd\n",
    "import numpy as np\n",
    "import seaborn as sns\n",
    "import matplotlib.pyplot as plt\n",
    "from sklearn.preprocessing import StandardScaler\n",
    "from sklearn.model_selection import train_test_split\n",
    "from sklearn.linear_model import LinearRegression\n",
    "import pandas as pd\n",
    "import numpy as np\n",
    "df = pd.read_csv('uber.csv')"
   ]
  },
  {
   "cell_type": "code",
   "execution_count": 3,
   "id": "73f60621-89bd-455c-9098-fcf207bed851",
   "metadata": {},
   "outputs": [
    {
     "name": "stdout",
     "output_type": "stream",
     "text": [
      "Original Dataset\n",
      "        Unnamed: 0                            key  fare_amount  \\\n",
      "0         24238194    2015-05-07 19:52:06.0000003          7.5   \n",
      "1         27835199    2009-07-17 20:04:56.0000002          7.7   \n",
      "2         44984355   2009-08-24 21:45:00.00000061         12.9   \n",
      "3         25894730    2009-06-26 08:22:21.0000001          5.3   \n",
      "4         17610152  2014-08-28 17:47:00.000000188         16.0   \n",
      "...            ...                            ...          ...   \n",
      "199995    42598914   2012-10-28 10:49:00.00000053          3.0   \n",
      "199996    16382965    2014-03-14 01:09:00.0000008          7.5   \n",
      "199997    27804658   2009-06-29 00:42:00.00000078         30.9   \n",
      "199998    20259894    2015-05-20 14:56:25.0000004         14.5   \n",
      "199999    11951496   2010-05-15 04:08:00.00000076         14.1   \n",
      "\n",
      "                pickup_datetime  pickup_longitude  pickup_latitude  \\\n",
      "0       2015-05-07 19:52:06 UTC        -73.999817        40.738354   \n",
      "1       2009-07-17 20:04:56 UTC        -73.994355        40.728225   \n",
      "2       2009-08-24 21:45:00 UTC        -74.005043        40.740770   \n",
      "3       2009-06-26 08:22:21 UTC        -73.976124        40.790844   \n",
      "4       2014-08-28 17:47:00 UTC        -73.925023        40.744085   \n",
      "...                         ...               ...              ...   \n",
      "199995  2012-10-28 10:49:00 UTC        -73.987042        40.739367   \n",
      "199996  2014-03-14 01:09:00 UTC        -73.984722        40.736837   \n",
      "199997  2009-06-29 00:42:00 UTC        -73.986017        40.756487   \n",
      "199998  2015-05-20 14:56:25 UTC        -73.997124        40.725452   \n",
      "199999  2010-05-15 04:08:00 UTC        -73.984395        40.720077   \n",
      "\n",
      "        dropoff_longitude  dropoff_latitude  passenger_count  \n",
      "0              -73.999512         40.723217                1  \n",
      "1              -73.994710         40.750325                1  \n",
      "2              -73.962565         40.772647                1  \n",
      "3              -73.965316         40.803349                3  \n",
      "4              -73.973082         40.761247                5  \n",
      "...                   ...               ...              ...  \n",
      "199995         -73.986525         40.740297                1  \n",
      "199996         -74.006672         40.739620                1  \n",
      "199997         -73.858957         40.692588                2  \n",
      "199998         -73.983215         40.695415                1  \n",
      "199999         -73.985508         40.768793                1  \n",
      "\n",
      "[200000 rows x 9 columns]\n"
     ]
    }
   ],
   "source": [
    "df.head()\n",
    "#print Dataset\n",
    "print(\"Original Dataset\")\n",
    "print(df)"
   ]
  },
  {
   "cell_type": "code",
   "execution_count": 5,
   "id": "a811ef41-5fa8-497c-9986-dcc2a66efbe0",
   "metadata": {},
   "outputs": [
    {
     "name": "stdout",
     "output_type": "stream",
     "text": [
      "Dataset after dropping the unnecessary columns\n",
      "        fare_amount          pickup_datetime  pickup_longitude  \\\n",
      "0               7.5  2015-05-07 19:52:06 UTC        -73.999817   \n",
      "1               7.7  2009-07-17 20:04:56 UTC        -73.994355   \n",
      "2              12.9  2009-08-24 21:45:00 UTC        -74.005043   \n",
      "3               5.3  2009-06-26 08:22:21 UTC        -73.976124   \n",
      "4              16.0  2014-08-28 17:47:00 UTC        -73.925023   \n",
      "...             ...                      ...               ...   \n",
      "199995          3.0  2012-10-28 10:49:00 UTC        -73.987042   \n",
      "199996          7.5  2014-03-14 01:09:00 UTC        -73.984722   \n",
      "199997         30.9  2009-06-29 00:42:00 UTC        -73.986017   \n",
      "199998         14.5  2015-05-20 14:56:25 UTC        -73.997124   \n",
      "199999         14.1  2010-05-15 04:08:00 UTC        -73.984395   \n",
      "\n",
      "        pickup_latitude  dropoff_longitude  dropoff_latitude  passenger_count  \n",
      "0             40.738354         -73.999512         40.723217                1  \n",
      "1             40.728225         -73.994710         40.750325                1  \n",
      "2             40.740770         -73.962565         40.772647                1  \n",
      "3             40.790844         -73.965316         40.803349                3  \n",
      "4             40.744085         -73.973082         40.761247                5  \n",
      "...                 ...                ...               ...              ...  \n",
      "199995        40.739367         -73.986525         40.740297                1  \n",
      "199996        40.736837         -74.006672         40.739620                1  \n",
      "199997        40.756487         -73.858957         40.692588                2  \n",
      "199998        40.725452         -73.983215         40.695415                1  \n",
      "199999        40.720077         -73.985508         40.768793                1  \n",
      "\n",
      "[200000 rows x 7 columns]\n"
     ]
    }
   ],
   "source": [
    "df = df.drop(['Unnamed: 0', 'key'], axis= 1) #To drop unnamed column as it isn't required\n",
    "print(\"Dataset after dropping the unnecessary columns\")\n",
    "print(df)"
   ]
  },
  {
   "cell_type": "code",
   "execution_count": 7,
   "id": "c9e002c9-0cbb-4bea-9c0e-38c1202ba302",
   "metadata": {},
   "outputs": [
    {
     "name": "stdout",
     "output_type": "stream",
     "text": [
      "fare_amount          float64\n",
      "pickup_datetime       object\n",
      "pickup_longitude     float64\n",
      "pickup_latitude      float64\n",
      "dropoff_longitude    float64\n",
      "dropoff_latitude     float64\n",
      "passenger_count        int64\n",
      "dtype: object\n"
     ]
    }
   ],
   "source": [
    "print(df.dtypes)"
   ]
  },
  {
   "cell_type": "code",
   "execution_count": 9,
   "id": "5d3cc031-40e1-4e54-ac24-1f34ad53a8bc",
   "metadata": {},
   "outputs": [
    {
     "name": "stdout",
     "output_type": "stream",
     "text": [
      "(200000, 7)\n"
     ]
    }
   ],
   "source": [
    "print(df.shape)"
   ]
  },
  {
   "cell_type": "code",
   "execution_count": 11,
   "id": "128c2182-cc95-4ee8-a7a8-77351f512753",
   "metadata": {},
   "outputs": [
    {
     "name": "stdout",
     "output_type": "stream",
     "text": [
      "         fare_amount  pickup_longitude  pickup_latitude  dropoff_longitude  \\\n",
      "count  200000.000000     200000.000000    200000.000000      199999.000000   \n",
      "mean       11.359955        -72.527638        39.935885         -72.525292   \n",
      "std         9.901776         11.437787         7.720539          13.117408   \n",
      "min       -52.000000      -1340.648410       -74.015515       -3356.666300   \n",
      "25%         6.000000        -73.992065        40.734796         -73.991407   \n",
      "50%         8.500000        -73.981823        40.752592         -73.980093   \n",
      "75%        12.500000        -73.967154        40.767158         -73.963658   \n",
      "max       499.000000         57.418457      1644.421482        1153.572603   \n",
      "\n",
      "       dropoff_latitude  passenger_count  \n",
      "count     199999.000000    200000.000000  \n",
      "mean          39.923890         1.684535  \n",
      "std            6.794829         1.385997  \n",
      "min         -881.985513         0.000000  \n",
      "25%           40.733823         1.000000  \n",
      "50%           40.753042         1.000000  \n",
      "75%           40.768001         2.000000  \n",
      "max          872.697628       208.000000  \n"
     ]
    }
   ],
   "source": [
    "print(df.describe())"
   ]
  },
  {
   "cell_type": "code",
   "execution_count": 13,
   "id": "985f8864-cfc1-4cd2-885e-116db7a56185",
   "metadata": {},
   "outputs": [
    {
     "data": {
      "text/plain": [
       "fare_amount          0\n",
       "pickup_datetime      0\n",
       "pickup_longitude     0\n",
       "pickup_latitude      0\n",
       "dropoff_longitude    1\n",
       "dropoff_latitude     1\n",
       "passenger_count      0\n",
       "dtype: int64"
      ]
     },
     "execution_count": 13,
     "metadata": {},
     "output_type": "execute_result"
    }
   ],
   "source": [
    "df.isnull().sum()"
   ]
  },
  {
   "cell_type": "code",
   "execution_count": 15,
   "id": "78bc0807-2059-4d00-9a37-1beef12238a4",
   "metadata": {},
   "outputs": [
    {
     "name": "stdout",
     "output_type": "stream",
     "text": [
      "        fare_amount          pickup_datetime  pickup_longitude  \\\n",
      "0               7.5  2015-05-07 19:52:06 UTC        -73.999817   \n",
      "1               7.7  2009-07-17 20:04:56 UTC        -73.994355   \n",
      "2              12.9  2009-08-24 21:45:00 UTC        -74.005043   \n",
      "3               5.3  2009-06-26 08:22:21 UTC        -73.976124   \n",
      "4              16.0  2014-08-28 17:47:00 UTC        -73.925023   \n",
      "...             ...                      ...               ...   \n",
      "199995          3.0  2012-10-28 10:49:00 UTC        -73.987042   \n",
      "199996          7.5  2014-03-14 01:09:00 UTC        -73.984722   \n",
      "199997         30.9  2009-06-29 00:42:00 UTC        -73.986017   \n",
      "199998         14.5  2015-05-20 14:56:25 UTC        -73.997124   \n",
      "199999         14.1  2010-05-15 04:08:00 UTC        -73.984395   \n",
      "\n",
      "        pickup_latitude  dropoff_longitude  dropoff_latitude  passenger_count  \n",
      "0             40.738354         -73.999512         40.723217                1  \n",
      "1             40.728225         -73.994710         40.750325                1  \n",
      "2             40.740770         -73.962565         40.772647                1  \n",
      "3             40.790844         -73.965316         40.803349                3  \n",
      "4             40.744085         -73.973082         40.761247                5  \n",
      "...                 ...                ...               ...              ...  \n",
      "199995        40.739367         -73.986525         40.740297                1  \n",
      "199996        40.736837         -74.006672         40.739620                1  \n",
      "199997        40.756487         -73.858957         40.692588                2  \n",
      "199998        40.725452         -73.983215         40.695415                1  \n",
      "199999        40.720077         -73.985508         40.768793                1  \n",
      "\n",
      "[200000 rows x 7 columns]\n"
     ]
    }
   ],
   "source": [
    "mean_latitude = df['dropoff_latitude'].mean()\n",
    "df['dropoff_latitude'] = df['dropoff_latitude'].fillna(value=mean_latitude)\n",
    "print(df)"
   ]
  },
  {
   "cell_type": "code",
   "execution_count": 17,
   "id": "7e0859a1-4eb5-4017-8e4f-76808cffc20b",
   "metadata": {},
   "outputs": [
    {
     "name": "stdout",
     "output_type": "stream",
     "text": [
      "        fare_amount          pickup_datetime  pickup_longitude  \\\n",
      "0               7.5  2015-05-07 19:52:06 UTC        -73.999817   \n",
      "1               7.7  2009-07-17 20:04:56 UTC        -73.994355   \n",
      "2              12.9  2009-08-24 21:45:00 UTC        -74.005043   \n",
      "3               5.3  2009-06-26 08:22:21 UTC        -73.976124   \n",
      "4              16.0  2014-08-28 17:47:00 UTC        -73.925023   \n",
      "...             ...                      ...               ...   \n",
      "199995          3.0  2012-10-28 10:49:00 UTC        -73.987042   \n",
      "199996          7.5  2014-03-14 01:09:00 UTC        -73.984722   \n",
      "199997         30.9  2009-06-29 00:42:00 UTC        -73.986017   \n",
      "199998         14.5  2015-05-20 14:56:25 UTC        -73.997124   \n",
      "199999         14.1  2010-05-15 04:08:00 UTC        -73.984395   \n",
      "\n",
      "        pickup_latitude  dropoff_longitude  dropoff_latitude  passenger_count  \n",
      "0             40.738354         -73.999512         40.723217                1  \n",
      "1             40.728225         -73.994710         40.750325                1  \n",
      "2             40.740770         -73.962565         40.772647                1  \n",
      "3             40.790844         -73.965316         40.803349                3  \n",
      "4             40.744085         -73.973082         40.761247                5  \n",
      "...                 ...                ...               ...              ...  \n",
      "199995        40.739367         -73.986525         40.740297                1  \n",
      "199996        40.736837         -74.006672         40.739620                1  \n",
      "199997        40.756487         -73.858957         40.692588                2  \n",
      "199998        40.725452         -73.983215         40.695415                1  \n",
      "199999        40.720077         -73.985508         40.768793                1  \n",
      "\n",
      "[200000 rows x 7 columns]\n"
     ]
    }
   ],
   "source": [
    "median_longitude = df['dropoff_longitude'].median()\n",
    "df['dropoff_longitude'] = df['dropoff_longitude'].fillna(value=median_longitude)\n",
    "print(df)"
   ]
  },
  {
   "cell_type": "code",
   "execution_count": 19,
   "id": "8216159d-2a67-49a3-ab18-42e560c60234",
   "metadata": {},
   "outputs": [
    {
     "data": {
      "text/plain": [
       "fare_amount          0\n",
       "pickup_datetime      0\n",
       "pickup_longitude     0\n",
       "pickup_latitude      0\n",
       "dropoff_longitude    0\n",
       "dropoff_latitude     0\n",
       "passenger_count      0\n",
       "dtype: int64"
      ]
     },
     "execution_count": 19,
     "metadata": {},
     "output_type": "execute_result"
    }
   ],
   "source": [
    "df.isnull().sum()"
   ]
  },
  {
   "cell_type": "code",
   "execution_count": 21,
   "id": "d248d9be-6e8c-4e1c-8062-5902bfcc2515",
   "metadata": {},
   "outputs": [
    {
     "name": "stdout",
     "output_type": "stream",
     "text": [
      "fare_amount          float64\n",
      "pickup_datetime       object\n",
      "pickup_longitude     float64\n",
      "pickup_latitude      float64\n",
      "dropoff_longitude    float64\n",
      "dropoff_latitude     float64\n",
      "passenger_count        int64\n",
      "dtype: object\n"
     ]
    }
   ],
   "source": [
    "print(df.dtypes)"
   ]
  },
  {
   "cell_type": "code",
   "execution_count": 23,
   "id": "3122b02c-201a-4b6a-b5d0-a1df35103675",
   "metadata": {},
   "outputs": [
    {
     "name": "stdout",
     "output_type": "stream",
     "text": [
      "fare_amount                      float64\n",
      "pickup_datetime      datetime64[ns, UTC]\n",
      "pickup_longitude                 float64\n",
      "pickup_latitude                  float64\n",
      "dropoff_longitude                float64\n",
      "dropoff_latitude                 float64\n",
      "passenger_count                    int64\n",
      "dtype: object\n"
     ]
    }
   ],
   "source": [
    "df.pickup_datetime = pd.to_datetime(df.pickup_datetime, errors='coerce')\n",
    "print(df.dtypes)"
   ]
  },
  {
   "cell_type": "code",
   "execution_count": 25,
   "id": "faeb4f7a-b4b1-4c2b-82b1-e7753bfec65e",
   "metadata": {},
   "outputs": [
    {
     "name": "stdout",
     "output_type": "stream",
     "text": [
      "        fare_amount           pickup_datetime  pickup_longitude  \\\n",
      "0               7.5 2015-05-07 19:52:06+00:00        -73.999817   \n",
      "1               7.7 2009-07-17 20:04:56+00:00        -73.994355   \n",
      "2              12.9 2009-08-24 21:45:00+00:00        -74.005043   \n",
      "3               5.3 2009-06-26 08:22:21+00:00        -73.976124   \n",
      "4              16.0 2014-08-28 17:47:00+00:00        -73.925023   \n",
      "...             ...                       ...               ...   \n",
      "199995          3.0 2012-10-28 10:49:00+00:00        -73.987042   \n",
      "199996          7.5 2014-03-14 01:09:00+00:00        -73.984722   \n",
      "199997         30.9 2009-06-29 00:42:00+00:00        -73.986017   \n",
      "199998         14.5 2015-05-20 14:56:25+00:00        -73.997124   \n",
      "199999         14.1 2010-05-15 04:08:00+00:00        -73.984395   \n",
      "\n",
      "        pickup_latitude  dropoff_longitude  dropoff_latitude  passenger_count  \\\n",
      "0             40.738354         -73.999512         40.723217                1   \n",
      "1             40.728225         -73.994710         40.750325                1   \n",
      "2             40.740770         -73.962565         40.772647                1   \n",
      "3             40.790844         -73.965316         40.803349                3   \n",
      "4             40.744085         -73.973082         40.761247                5   \n",
      "...                 ...                ...               ...              ...   \n",
      "199995        40.739367         -73.986525         40.740297                1   \n",
      "199996        40.736837         -74.006672         40.739620                1   \n",
      "199997        40.756487         -73.858957         40.692588                2   \n",
      "199998        40.725452         -73.983215         40.695415                1   \n",
      "199999        40.720077         -73.985508         40.768793                1   \n",
      "\n",
      "        hour  day  month  year  dayofweek  \n",
      "0         19    7      5  2015          3  \n",
      "1         20   17      7  2009          4  \n",
      "2         21   24      8  2009          0  \n",
      "3          8   26      6  2009          4  \n",
      "4         17   28      8  2014          3  \n",
      "...      ...  ...    ...   ...        ...  \n",
      "199995    10   28     10  2012          6  \n",
      "199996     1   14      3  2014          4  \n",
      "199997     0   29      6  2009          0  \n",
      "199998    14   20      5  2015          2  \n",
      "199999     4   15      5  2010          5  \n",
      "\n",
      "[200000 rows x 12 columns]\n"
     ]
    }
   ],
   "source": [
    "df= df.assign(hour = df.pickup_datetime.dt.hour,\n",
    "             day= df.pickup_datetime.dt.day,\n",
    "             month = df.pickup_datetime.dt.month,\n",
    "             year = df.pickup_datetime.dt.year,\n",
    "             dayofweek = df.pickup_datetime.dt.dayofweek)\n",
    "print(df)"
   ]
  },
  {
   "cell_type": "code",
   "execution_count": 27,
   "id": "8bebe7d1-644e-41a0-96e8-422db79ae43f",
   "metadata": {},
   "outputs": [
    {
     "name": "stdout",
     "output_type": "stream",
     "text": [
      "        fare_amount  pickup_longitude  pickup_latitude  dropoff_longitude  \\\n",
      "0               7.5        -73.999817        40.738354         -73.999512   \n",
      "1               7.7        -73.994355        40.728225         -73.994710   \n",
      "2              12.9        -74.005043        40.740770         -73.962565   \n",
      "3               5.3        -73.976124        40.790844         -73.965316   \n",
      "4              16.0        -73.925023        40.744085         -73.973082   \n",
      "...             ...               ...              ...                ...   \n",
      "199995          3.0        -73.987042        40.739367         -73.986525   \n",
      "199996          7.5        -73.984722        40.736837         -74.006672   \n",
      "199997         30.9        -73.986017        40.756487         -73.858957   \n",
      "199998         14.5        -73.997124        40.725452         -73.983215   \n",
      "199999         14.1        -73.984395        40.720077         -73.985508   \n",
      "\n",
      "        dropoff_latitude  passenger_count  hour  day  month  year  dayofweek  \n",
      "0              40.723217                1    19    7      5  2015          3  \n",
      "1              40.750325                1    20   17      7  2009          4  \n",
      "2              40.772647                1    21   24      8  2009          0  \n",
      "3              40.803349                3     8   26      6  2009          4  \n",
      "4              40.761247                5    17   28      8  2014          3  \n",
      "...                  ...              ...   ...  ...    ...   ...        ...  \n",
      "199995         40.740297                1    10   28     10  2012          6  \n",
      "199996         40.739620                1     1   14      3  2014          4  \n",
      "199997         40.692588                2     0   29      6  2009          0  \n",
      "199998         40.695415                1    14   20      5  2015          2  \n",
      "199999         40.768793                1     4   15      5  2010          5  \n",
      "\n",
      "[200000 rows x 11 columns]\n"
     ]
    }
   ],
   "source": [
    "df = df.drop('pickup_datetime',axis=1)\n",
    "print(df)"
   ]
  },
  {
   "cell_type": "code",
   "execution_count": 29,
   "id": "14c21f58-f423-4b75-95d8-ae6c6ebc448e",
   "metadata": {},
   "outputs": [],
   "source": [
    "def remove_outlier(df1 , col):\n",
    "    Q1 = df1[col].quantile(0.25)\n",
    "    Q3 = df1[col].quantile(0.75)\n",
    "    IQR = Q3 - Q1\n",
    "    lower_whisker = Q1-1.5*IQR\n",
    "    upper_whisker = Q3+1.5*IQR\n",
    "    df[col] = np.clip(df1[col] , lower_whisker , upper_whisker)\n",
    "    return df1"
   ]
  },
  {
   "cell_type": "code",
   "execution_count": 33,
   "id": "a0d5de13-701b-432a-9f9d-66fedd32291d",
   "metadata": {},
   "outputs": [],
   "source": [
    "def treat_outliers_all(df1 , col_list):\n",
    "    for c in col_list:\n",
    "        df1 = remove_outlier(df , c)\n",
    "    return df1"
   ]
  },
  {
   "cell_type": "code",
   "execution_count": 35,
   "id": "48d1a0e1-f191-4521-ba88-23db47863ba6",
   "metadata": {},
   "outputs": [
    {
     "name": "stdout",
     "output_type": "stream",
     "text": [
      "Outliers\n",
      "        fare_amount  pickup_longitude  pickup_latitude  dropoff_longitude  \\\n",
      "0              7.50        -73.999817        40.738354         -73.999512   \n",
      "1              7.70        -73.994355        40.728225         -73.994710   \n",
      "2             12.90        -74.005043        40.740770         -73.962565   \n",
      "3              5.30        -73.976124        40.790844         -73.965316   \n",
      "4             16.00        -73.929786        40.744085         -73.973082   \n",
      "...             ...               ...              ...                ...   \n",
      "199995         3.00        -73.987042        40.739367         -73.986525   \n",
      "199996         7.50        -73.984722        40.736837         -74.006672   \n",
      "199997        22.25        -73.986017        40.756487         -73.922036   \n",
      "199998        14.50        -73.997124        40.725452         -73.983215   \n",
      "199999        14.10        -73.984395        40.720077         -73.985508   \n",
      "\n",
      "        dropoff_latitude  passenger_count  hour  day  month  year  dayofweek  \n",
      "0              40.723217              1.0    19    7      5  2015          3  \n",
      "1              40.750325              1.0    20   17      7  2009          4  \n",
      "2              40.772647              1.0    21   24      8  2009          0  \n",
      "3              40.803349              3.0     8   26      6  2009          4  \n",
      "4              40.761247              3.5    17   28      8  2014          3  \n",
      "...                  ...              ...   ...  ...    ...   ...        ...  \n",
      "199995         40.740297              1.0    10   28     10  2012          6  \n",
      "199996         40.739620              1.0     1   14      3  2014          4  \n",
      "199997         40.692588              2.0     0   29      6  2009          0  \n",
      "199998         40.695415              1.0    14   20      5  2015          2  \n",
      "199999         40.768793              1.0     4   15      5  2010          5  \n",
      "\n",
      "[200000 rows x 11 columns]\n"
     ]
    }
   ],
   "source": [
    "df = treat_outliers_all(df , df.iloc[: , 0::])\n",
    "print(\"Outliers\")\n",
    "print(df)"
   ]
  },
  {
   "cell_type": "code",
   "execution_count": 37,
   "id": "53a02cf0-5df3-40d6-a948-3f0019962341",
   "metadata": {},
   "outputs": [],
   "source": [
    "import haversine as hs  #Calculate the distance using Haversine to calculate the distance between to points. Can't use Eucladian as it is for flat surface.\n",
    "travel_dist = []\n",
    "for pos in range(len(df['pickup_longitude'])):\n",
    "        long1,lati1,long2,lati2 = [df['pickup_longitude'][pos],df['pickup_latitude'][pos],df['dropoff_longitude'][pos],df['dropoff_latitude'][pos]]\n",
    "        loc1=(lati1,long1)\n",
    "        loc2=(lati2,long2)\n",
    "        c = hs.haversine(loc1,loc2)\n",
    "        travel_dist.append(c)"
   ]
  },
  {
   "cell_type": "code",
   "execution_count": 39,
   "id": "32a7e3ad-5843-4a22-9d5d-214506d950e1",
   "metadata": {},
   "outputs": [
    {
     "name": "stdout",
     "output_type": "stream",
     "text": [
      "Distance Calculated\n",
      "        fare_amount  pickup_longitude  pickup_latitude  dropoff_longitude  \\\n",
      "0              7.50        -73.999817        40.738354         -73.999512   \n",
      "1              7.70        -73.994355        40.728225         -73.994710   \n",
      "2             12.90        -74.005043        40.740770         -73.962565   \n",
      "3              5.30        -73.976124        40.790844         -73.965316   \n",
      "4             16.00        -73.929786        40.744085         -73.973082   \n",
      "...             ...               ...              ...                ...   \n",
      "199995         3.00        -73.987042        40.739367         -73.986525   \n",
      "199996         7.50        -73.984722        40.736837         -74.006672   \n",
      "199997        22.25        -73.986017        40.756487         -73.922036   \n",
      "199998        14.50        -73.997124        40.725452         -73.983215   \n",
      "199999        14.10        -73.984395        40.720077         -73.985508   \n",
      "\n",
      "        dropoff_latitude  passenger_count  hour  day  month  year  dayofweek  \\\n",
      "0              40.723217              1.0    19    7      5  2015          3   \n",
      "1              40.750325              1.0    20   17      7  2009          4   \n",
      "2              40.772647              1.0    21   24      8  2009          0   \n",
      "3              40.803349              3.0     8   26      6  2009          4   \n",
      "4              40.761247              3.5    17   28      8  2014          3   \n",
      "...                  ...              ...   ...  ...    ...   ...        ...   \n",
      "199995         40.740297              1.0    10   28     10  2012          6   \n",
      "199996         40.739620              1.0     1   14      3  2014          4   \n",
      "199997         40.692588              2.0     0   29      6  2009          0   \n",
      "199998         40.695415              1.0    14   20      5  2015          2   \n",
      "199999         40.768793              1.0     4   15      5  2010          5   \n",
      "\n",
      "        dist_travel_km  \n",
      "0             1.683325  \n",
      "1             2.457593  \n",
      "2             5.036384  \n",
      "3             1.661686  \n",
      "4             4.116088  \n",
      "...                ...  \n",
      "199995        0.112210  \n",
      "199996        1.875053  \n",
      "199997        8.919323  \n",
      "199998        3.539720  \n",
      "199999        5.417791  \n",
      "\n",
      "[200000 rows x 12 columns]\n"
     ]
    }
   ],
   "source": [
    "#print(travel_dist)\n",
    "df['dist_travel_km'] = travel_dist\n",
    "print(\"Distance Calculated\")\n",
    "print(df)"
   ]
  },
  {
   "cell_type": "code",
   "execution_count": 41,
   "id": "4665d0af-dbf6-4433-bba2-042e4f325e2f",
   "metadata": {},
   "outputs": [
    {
     "name": "stdout",
     "output_type": "stream",
     "text": [
      "Correlation\n",
      "                   fare_amount  pickup_longitude  pickup_latitude  \\\n",
      "fare_amount           1.000000          0.154069        -0.110842   \n",
      "pickup_longitude      0.154069          1.000000         0.259497   \n",
      "pickup_latitude      -0.110842          0.259497         1.000000   \n",
      "dropoff_longitude     0.218675          0.425619         0.048889   \n",
      "dropoff_latitude     -0.125898          0.073290         0.515714   \n",
      "passenger_count       0.015778         -0.013213        -0.012889   \n",
      "hour                 -0.023623          0.011579         0.029681   \n",
      "day                   0.004534         -0.003204        -0.001553   \n",
      "month                 0.030817          0.001169         0.001562   \n",
      "year                  0.141277          0.010198        -0.014243   \n",
      "dayofweek             0.013652         -0.024652        -0.042310   \n",
      "dist_travel_km        0.786385          0.048446        -0.073362   \n",
      "\n",
      "                   dropoff_longitude  dropoff_latitude  passenger_count  \\\n",
      "fare_amount                 0.218675         -0.125898         0.015778   \n",
      "pickup_longitude            0.425619          0.073290        -0.013213   \n",
      "pickup_latitude             0.048889          0.515714        -0.012889   \n",
      "dropoff_longitude           1.000000          0.245667        -0.009303   \n",
      "dropoff_latitude            0.245667          1.000000        -0.006308   \n",
      "passenger_count            -0.009303         -0.006308         1.000000   \n",
      "hour                       -0.046558          0.019783         0.020274   \n",
      "day                        -0.004007         -0.003479         0.002712   \n",
      "month                       0.002391         -0.001193         0.010351   \n",
      "year                        0.011346         -0.009603        -0.009749   \n",
      "dayofweek                  -0.003336         -0.031919         0.048550   \n",
      "dist_travel_km              0.155191         -0.052701         0.009884   \n",
      "\n",
      "                       hour       day     month      year  dayofweek  \\\n",
      "fare_amount       -0.023623  0.004534  0.030817  0.141277   0.013652   \n",
      "pickup_longitude   0.011579 -0.003204  0.001169  0.010198  -0.024652   \n",
      "pickup_latitude    0.029681 -0.001553  0.001562 -0.014243  -0.042310   \n",
      "dropoff_longitude -0.046558 -0.004007  0.002391  0.011346  -0.003336   \n",
      "dropoff_latitude   0.019783 -0.003479 -0.001193 -0.009603  -0.031919   \n",
      "passenger_count    0.020274  0.002712  0.010351 -0.009749   0.048550   \n",
      "hour               1.000000  0.004677 -0.003926  0.002156  -0.086947   \n",
      "day                0.004677  1.000000 -0.017360 -0.012170   0.005617   \n",
      "month             -0.003926 -0.017360  1.000000 -0.115859  -0.008786   \n",
      "year               0.002156 -0.012170 -0.115859  1.000000   0.006113   \n",
      "dayofweek         -0.086947  0.005617 -0.008786  0.006113   1.000000   \n",
      "dist_travel_km    -0.035708  0.001709  0.010050  0.022294   0.030382   \n",
      "\n",
      "                   dist_travel_km  \n",
      "fare_amount              0.786385  \n",
      "pickup_longitude         0.048446  \n",
      "pickup_latitude         -0.073362  \n",
      "dropoff_longitude        0.155191  \n",
      "dropoff_latitude        -0.052701  \n",
      "passenger_count          0.009884  \n",
      "hour                    -0.035708  \n",
      "day                      0.001709  \n",
      "month                    0.010050  \n",
      "year                     0.022294  \n",
      "dayofweek                0.030382  \n",
      "dist_travel_km           1.000000  \n"
     ]
    }
   ],
   "source": [
    "corr = df.corr()\n",
    "print(\"Correlation\");\n",
    "print(corr);"
   ]
  },
  {
   "cell_type": "code",
   "execution_count": 43,
   "id": "2fe5060d-dc23-44f8-922c-09eb39d01366",
   "metadata": {},
   "outputs": [],
   "source": [
    "#Dividing the dataset into feature and target values\n",
    "x = df[['pickup_longitude','pickup_latitude','dropoff_longitude','dropoff_latitude','passenger_count','hour','day','month','year','dayofweek','dist_travel_km']]\n",
    "y = df['fare_amount']"
   ]
  },
  {
   "cell_type": "code",
   "execution_count": 45,
   "id": "12f52b07-49e1-48fe-a4bf-1c9dcc0977a0",
   "metadata": {},
   "outputs": [],
   "source": [
    "from sklearn.model_selection import train_test_split\n",
    "X_train,X_test,y_train,y_test = train_test_split(x,y,test_size = 0.33)\n",
    "\n",
    "#Linear Regression"
   ]
  },
  {
   "cell_type": "code",
   "execution_count": 47,
   "id": "59829935-de71-4616-bc4a-83321ba1e9cf",
   "metadata": {},
   "outputs": [
    {
     "data": {
      "text/html": [
       "<style>#sk-container-id-1 {\n",
       "  /* Definition of color scheme common for light and dark mode */\n",
       "  --sklearn-color-text: black;\n",
       "  --sklearn-color-line: gray;\n",
       "  /* Definition of color scheme for unfitted estimators */\n",
       "  --sklearn-color-unfitted-level-0: #fff5e6;\n",
       "  --sklearn-color-unfitted-level-1: #f6e4d2;\n",
       "  --sklearn-color-unfitted-level-2: #ffe0b3;\n",
       "  --sklearn-color-unfitted-level-3: chocolate;\n",
       "  /* Definition of color scheme for fitted estimators */\n",
       "  --sklearn-color-fitted-level-0: #f0f8ff;\n",
       "  --sklearn-color-fitted-level-1: #d4ebff;\n",
       "  --sklearn-color-fitted-level-2: #b3dbfd;\n",
       "  --sklearn-color-fitted-level-3: cornflowerblue;\n",
       "\n",
       "  /* Specific color for light theme */\n",
       "  --sklearn-color-text-on-default-background: var(--sg-text-color, var(--theme-code-foreground, var(--jp-content-font-color1, black)));\n",
       "  --sklearn-color-background: var(--sg-background-color, var(--theme-background, var(--jp-layout-color0, white)));\n",
       "  --sklearn-color-border-box: var(--sg-text-color, var(--theme-code-foreground, var(--jp-content-font-color1, black)));\n",
       "  --sklearn-color-icon: #696969;\n",
       "\n",
       "  @media (prefers-color-scheme: dark) {\n",
       "    /* Redefinition of color scheme for dark theme */\n",
       "    --sklearn-color-text-on-default-background: var(--sg-text-color, var(--theme-code-foreground, var(--jp-content-font-color1, white)));\n",
       "    --sklearn-color-background: var(--sg-background-color, var(--theme-background, var(--jp-layout-color0, #111)));\n",
       "    --sklearn-color-border-box: var(--sg-text-color, var(--theme-code-foreground, var(--jp-content-font-color1, white)));\n",
       "    --sklearn-color-icon: #878787;\n",
       "  }\n",
       "}\n",
       "\n",
       "#sk-container-id-1 {\n",
       "  color: var(--sklearn-color-text);\n",
       "}\n",
       "\n",
       "#sk-container-id-1 pre {\n",
       "  padding: 0;\n",
       "}\n",
       "\n",
       "#sk-container-id-1 input.sk-hidden--visually {\n",
       "  border: 0;\n",
       "  clip: rect(1px 1px 1px 1px);\n",
       "  clip: rect(1px, 1px, 1px, 1px);\n",
       "  height: 1px;\n",
       "  margin: -1px;\n",
       "  overflow: hidden;\n",
       "  padding: 0;\n",
       "  position: absolute;\n",
       "  width: 1px;\n",
       "}\n",
       "\n",
       "#sk-container-id-1 div.sk-dashed-wrapped {\n",
       "  border: 1px dashed var(--sklearn-color-line);\n",
       "  margin: 0 0.4em 0.5em 0.4em;\n",
       "  box-sizing: border-box;\n",
       "  padding-bottom: 0.4em;\n",
       "  background-color: var(--sklearn-color-background);\n",
       "}\n",
       "\n",
       "#sk-container-id-1 div.sk-container {\n",
       "  /* jupyter's `normalize.less` sets `[hidden] { display: none; }`\n",
       "     but bootstrap.min.css set `[hidden] { display: none !important; }`\n",
       "     so we also need the `!important` here to be able to override the\n",
       "     default hidden behavior on the sphinx rendered scikit-learn.org.\n",
       "     See: https://github.com/scikit-learn/scikit-learn/issues/21755 */\n",
       "  display: inline-block !important;\n",
       "  position: relative;\n",
       "}\n",
       "\n",
       "#sk-container-id-1 div.sk-text-repr-fallback {\n",
       "  display: none;\n",
       "}\n",
       "\n",
       "div.sk-parallel-item,\n",
       "div.sk-serial,\n",
       "div.sk-item {\n",
       "  /* draw centered vertical line to link estimators */\n",
       "  background-image: linear-gradient(var(--sklearn-color-text-on-default-background), var(--sklearn-color-text-on-default-background));\n",
       "  background-size: 2px 100%;\n",
       "  background-repeat: no-repeat;\n",
       "  background-position: center center;\n",
       "}\n",
       "\n",
       "/* Parallel-specific style estimator block */\n",
       "\n",
       "#sk-container-id-1 div.sk-parallel-item::after {\n",
       "  content: \"\";\n",
       "  width: 100%;\n",
       "  border-bottom: 2px solid var(--sklearn-color-text-on-default-background);\n",
       "  flex-grow: 1;\n",
       "}\n",
       "\n",
       "#sk-container-id-1 div.sk-parallel {\n",
       "  display: flex;\n",
       "  align-items: stretch;\n",
       "  justify-content: center;\n",
       "  background-color: var(--sklearn-color-background);\n",
       "  position: relative;\n",
       "}\n",
       "\n",
       "#sk-container-id-1 div.sk-parallel-item {\n",
       "  display: flex;\n",
       "  flex-direction: column;\n",
       "}\n",
       "\n",
       "#sk-container-id-1 div.sk-parallel-item:first-child::after {\n",
       "  align-self: flex-end;\n",
       "  width: 50%;\n",
       "}\n",
       "\n",
       "#sk-container-id-1 div.sk-parallel-item:last-child::after {\n",
       "  align-self: flex-start;\n",
       "  width: 50%;\n",
       "}\n",
       "\n",
       "#sk-container-id-1 div.sk-parallel-item:only-child::after {\n",
       "  width: 0;\n",
       "}\n",
       "\n",
       "/* Serial-specific style estimator block */\n",
       "\n",
       "#sk-container-id-1 div.sk-serial {\n",
       "  display: flex;\n",
       "  flex-direction: column;\n",
       "  align-items: center;\n",
       "  background-color: var(--sklearn-color-background);\n",
       "  padding-right: 1em;\n",
       "  padding-left: 1em;\n",
       "}\n",
       "\n",
       "\n",
       "/* Toggleable style: style used for estimator/Pipeline/ColumnTransformer box that is\n",
       "clickable and can be expanded/collapsed.\n",
       "- Pipeline and ColumnTransformer use this feature and define the default style\n",
       "- Estimators will overwrite some part of the style using the `sk-estimator` class\n",
       "*/\n",
       "\n",
       "/* Pipeline and ColumnTransformer style (default) */\n",
       "\n",
       "#sk-container-id-1 div.sk-toggleable {\n",
       "  /* Default theme specific background. It is overwritten whether we have a\n",
       "  specific estimator or a Pipeline/ColumnTransformer */\n",
       "  background-color: var(--sklearn-color-background);\n",
       "}\n",
       "\n",
       "/* Toggleable label */\n",
       "#sk-container-id-1 label.sk-toggleable__label {\n",
       "  cursor: pointer;\n",
       "  display: block;\n",
       "  width: 100%;\n",
       "  margin-bottom: 0;\n",
       "  padding: 0.5em;\n",
       "  box-sizing: border-box;\n",
       "  text-align: center;\n",
       "}\n",
       "\n",
       "#sk-container-id-1 label.sk-toggleable__label-arrow:before {\n",
       "  /* Arrow on the left of the label */\n",
       "  content: \"▸\";\n",
       "  float: left;\n",
       "  margin-right: 0.25em;\n",
       "  color: var(--sklearn-color-icon);\n",
       "}\n",
       "\n",
       "#sk-container-id-1 label.sk-toggleable__label-arrow:hover:before {\n",
       "  color: var(--sklearn-color-text);\n",
       "}\n",
       "\n",
       "/* Toggleable content - dropdown */\n",
       "\n",
       "#sk-container-id-1 div.sk-toggleable__content {\n",
       "  max-height: 0;\n",
       "  max-width: 0;\n",
       "  overflow: hidden;\n",
       "  text-align: left;\n",
       "  /* unfitted */\n",
       "  background-color: var(--sklearn-color-unfitted-level-0);\n",
       "}\n",
       "\n",
       "#sk-container-id-1 div.sk-toggleable__content.fitted {\n",
       "  /* fitted */\n",
       "  background-color: var(--sklearn-color-fitted-level-0);\n",
       "}\n",
       "\n",
       "#sk-container-id-1 div.sk-toggleable__content pre {\n",
       "  margin: 0.2em;\n",
       "  border-radius: 0.25em;\n",
       "  color: var(--sklearn-color-text);\n",
       "  /* unfitted */\n",
       "  background-color: var(--sklearn-color-unfitted-level-0);\n",
       "}\n",
       "\n",
       "#sk-container-id-1 div.sk-toggleable__content.fitted pre {\n",
       "  /* unfitted */\n",
       "  background-color: var(--sklearn-color-fitted-level-0);\n",
       "}\n",
       "\n",
       "#sk-container-id-1 input.sk-toggleable__control:checked~div.sk-toggleable__content {\n",
       "  /* Expand drop-down */\n",
       "  max-height: 200px;\n",
       "  max-width: 100%;\n",
       "  overflow: auto;\n",
       "}\n",
       "\n",
       "#sk-container-id-1 input.sk-toggleable__control:checked~label.sk-toggleable__label-arrow:before {\n",
       "  content: \"▾\";\n",
       "}\n",
       "\n",
       "/* Pipeline/ColumnTransformer-specific style */\n",
       "\n",
       "#sk-container-id-1 div.sk-label input.sk-toggleable__control:checked~label.sk-toggleable__label {\n",
       "  color: var(--sklearn-color-text);\n",
       "  background-color: var(--sklearn-color-unfitted-level-2);\n",
       "}\n",
       "\n",
       "#sk-container-id-1 div.sk-label.fitted input.sk-toggleable__control:checked~label.sk-toggleable__label {\n",
       "  background-color: var(--sklearn-color-fitted-level-2);\n",
       "}\n",
       "\n",
       "/* Estimator-specific style */\n",
       "\n",
       "/* Colorize estimator box */\n",
       "#sk-container-id-1 div.sk-estimator input.sk-toggleable__control:checked~label.sk-toggleable__label {\n",
       "  /* unfitted */\n",
       "  background-color: var(--sklearn-color-unfitted-level-2);\n",
       "}\n",
       "\n",
       "#sk-container-id-1 div.sk-estimator.fitted input.sk-toggleable__control:checked~label.sk-toggleable__label {\n",
       "  /* fitted */\n",
       "  background-color: var(--sklearn-color-fitted-level-2);\n",
       "}\n",
       "\n",
       "#sk-container-id-1 div.sk-label label.sk-toggleable__label,\n",
       "#sk-container-id-1 div.sk-label label {\n",
       "  /* The background is the default theme color */\n",
       "  color: var(--sklearn-color-text-on-default-background);\n",
       "}\n",
       "\n",
       "/* On hover, darken the color of the background */\n",
       "#sk-container-id-1 div.sk-label:hover label.sk-toggleable__label {\n",
       "  color: var(--sklearn-color-text);\n",
       "  background-color: var(--sklearn-color-unfitted-level-2);\n",
       "}\n",
       "\n",
       "/* Label box, darken color on hover, fitted */\n",
       "#sk-container-id-1 div.sk-label.fitted:hover label.sk-toggleable__label.fitted {\n",
       "  color: var(--sklearn-color-text);\n",
       "  background-color: var(--sklearn-color-fitted-level-2);\n",
       "}\n",
       "\n",
       "/* Estimator label */\n",
       "\n",
       "#sk-container-id-1 div.sk-label label {\n",
       "  font-family: monospace;\n",
       "  font-weight: bold;\n",
       "  display: inline-block;\n",
       "  line-height: 1.2em;\n",
       "}\n",
       "\n",
       "#sk-container-id-1 div.sk-label-container {\n",
       "  text-align: center;\n",
       "}\n",
       "\n",
       "/* Estimator-specific */\n",
       "#sk-container-id-1 div.sk-estimator {\n",
       "  font-family: monospace;\n",
       "  border: 1px dotted var(--sklearn-color-border-box);\n",
       "  border-radius: 0.25em;\n",
       "  box-sizing: border-box;\n",
       "  margin-bottom: 0.5em;\n",
       "  /* unfitted */\n",
       "  background-color: var(--sklearn-color-unfitted-level-0);\n",
       "}\n",
       "\n",
       "#sk-container-id-1 div.sk-estimator.fitted {\n",
       "  /* fitted */\n",
       "  background-color: var(--sklearn-color-fitted-level-0);\n",
       "}\n",
       "\n",
       "/* on hover */\n",
       "#sk-container-id-1 div.sk-estimator:hover {\n",
       "  /* unfitted */\n",
       "  background-color: var(--sklearn-color-unfitted-level-2);\n",
       "}\n",
       "\n",
       "#sk-container-id-1 div.sk-estimator.fitted:hover {\n",
       "  /* fitted */\n",
       "  background-color: var(--sklearn-color-fitted-level-2);\n",
       "}\n",
       "\n",
       "/* Specification for estimator info (e.g. \"i\" and \"?\") */\n",
       "\n",
       "/* Common style for \"i\" and \"?\" */\n",
       "\n",
       ".sk-estimator-doc-link,\n",
       "a:link.sk-estimator-doc-link,\n",
       "a:visited.sk-estimator-doc-link {\n",
       "  float: right;\n",
       "  font-size: smaller;\n",
       "  line-height: 1em;\n",
       "  font-family: monospace;\n",
       "  background-color: var(--sklearn-color-background);\n",
       "  border-radius: 1em;\n",
       "  height: 1em;\n",
       "  width: 1em;\n",
       "  text-decoration: none !important;\n",
       "  margin-left: 1ex;\n",
       "  /* unfitted */\n",
       "  border: var(--sklearn-color-unfitted-level-1) 1pt solid;\n",
       "  color: var(--sklearn-color-unfitted-level-1);\n",
       "}\n",
       "\n",
       ".sk-estimator-doc-link.fitted,\n",
       "a:link.sk-estimator-doc-link.fitted,\n",
       "a:visited.sk-estimator-doc-link.fitted {\n",
       "  /* fitted */\n",
       "  border: var(--sklearn-color-fitted-level-1) 1pt solid;\n",
       "  color: var(--sklearn-color-fitted-level-1);\n",
       "}\n",
       "\n",
       "/* On hover */\n",
       "div.sk-estimator:hover .sk-estimator-doc-link:hover,\n",
       ".sk-estimator-doc-link:hover,\n",
       "div.sk-label-container:hover .sk-estimator-doc-link:hover,\n",
       ".sk-estimator-doc-link:hover {\n",
       "  /* unfitted */\n",
       "  background-color: var(--sklearn-color-unfitted-level-3);\n",
       "  color: var(--sklearn-color-background);\n",
       "  text-decoration: none;\n",
       "}\n",
       "\n",
       "div.sk-estimator.fitted:hover .sk-estimator-doc-link.fitted:hover,\n",
       ".sk-estimator-doc-link.fitted:hover,\n",
       "div.sk-label-container:hover .sk-estimator-doc-link.fitted:hover,\n",
       ".sk-estimator-doc-link.fitted:hover {\n",
       "  /* fitted */\n",
       "  background-color: var(--sklearn-color-fitted-level-3);\n",
       "  color: var(--sklearn-color-background);\n",
       "  text-decoration: none;\n",
       "}\n",
       "\n",
       "/* Span, style for the box shown on hovering the info icon */\n",
       ".sk-estimator-doc-link span {\n",
       "  display: none;\n",
       "  z-index: 9999;\n",
       "  position: relative;\n",
       "  font-weight: normal;\n",
       "  right: .2ex;\n",
       "  padding: .5ex;\n",
       "  margin: .5ex;\n",
       "  width: min-content;\n",
       "  min-width: 20ex;\n",
       "  max-width: 50ex;\n",
       "  color: var(--sklearn-color-text);\n",
       "  box-shadow: 2pt 2pt 4pt #999;\n",
       "  /* unfitted */\n",
       "  background: var(--sklearn-color-unfitted-level-0);\n",
       "  border: .5pt solid var(--sklearn-color-unfitted-level-3);\n",
       "}\n",
       "\n",
       ".sk-estimator-doc-link.fitted span {\n",
       "  /* fitted */\n",
       "  background: var(--sklearn-color-fitted-level-0);\n",
       "  border: var(--sklearn-color-fitted-level-3);\n",
       "}\n",
       "\n",
       ".sk-estimator-doc-link:hover span {\n",
       "  display: block;\n",
       "}\n",
       "\n",
       "/* \"?\"-specific style due to the `<a>` HTML tag */\n",
       "\n",
       "#sk-container-id-1 a.estimator_doc_link {\n",
       "  float: right;\n",
       "  font-size: 1rem;\n",
       "  line-height: 1em;\n",
       "  font-family: monospace;\n",
       "  background-color: var(--sklearn-color-background);\n",
       "  border-radius: 1rem;\n",
       "  height: 1rem;\n",
       "  width: 1rem;\n",
       "  text-decoration: none;\n",
       "  /* unfitted */\n",
       "  color: var(--sklearn-color-unfitted-level-1);\n",
       "  border: var(--sklearn-color-unfitted-level-1) 1pt solid;\n",
       "}\n",
       "\n",
       "#sk-container-id-1 a.estimator_doc_link.fitted {\n",
       "  /* fitted */\n",
       "  border: var(--sklearn-color-fitted-level-1) 1pt solid;\n",
       "  color: var(--sklearn-color-fitted-level-1);\n",
       "}\n",
       "\n",
       "/* On hover */\n",
       "#sk-container-id-1 a.estimator_doc_link:hover {\n",
       "  /* unfitted */\n",
       "  background-color: var(--sklearn-color-unfitted-level-3);\n",
       "  color: var(--sklearn-color-background);\n",
       "  text-decoration: none;\n",
       "}\n",
       "\n",
       "#sk-container-id-1 a.estimator_doc_link.fitted:hover {\n",
       "  /* fitted */\n",
       "  background-color: var(--sklearn-color-fitted-level-3);\n",
       "}\n",
       "</style><div id=\"sk-container-id-1\" class=\"sk-top-container\"><div class=\"sk-text-repr-fallback\"><pre>LinearRegression()</pre><b>In a Jupyter environment, please rerun this cell to show the HTML representation or trust the notebook. <br />On GitHub, the HTML representation is unable to render, please try loading this page with nbviewer.org.</b></div><div class=\"sk-container\" hidden><div class=\"sk-item\"><div class=\"sk-estimator fitted sk-toggleable\"><input class=\"sk-toggleable__control sk-hidden--visually\" id=\"sk-estimator-id-1\" type=\"checkbox\" checked><label for=\"sk-estimator-id-1\" class=\"sk-toggleable__label fitted sk-toggleable__label-arrow fitted\">&nbsp;&nbsp;LinearRegression<a class=\"sk-estimator-doc-link fitted\" rel=\"noreferrer\" target=\"_blank\" href=\"https://scikit-learn.org/1.4/modules/generated/sklearn.linear_model.LinearRegression.html\">?<span>Documentation for LinearRegression</span></a><span class=\"sk-estimator-doc-link fitted\">i<span>Fitted</span></span></label><div class=\"sk-toggleable__content fitted\"><pre>LinearRegression()</pre></div> </div></div></div></div>"
      ],
      "text/plain": [
       "LinearRegression()"
      ]
     },
     "execution_count": 47,
     "metadata": {},
     "output_type": "execute_result"
    }
   ],
   "source": [
    "from sklearn.linear_model import LinearRegression\n",
    "regression = LinearRegression()\n",
    "regression.fit(X_train,y_train)"
   ]
  },
  {
   "cell_type": "code",
   "execution_count": 49,
   "id": "795c53e5-9877-4646-a616-d8af3551f908",
   "metadata": {},
   "outputs": [
    {
     "name": "stdout",
     "output_type": "stream",
     "text": [
      "#To find the linear intercept\n",
      "3635.5856985214964\n"
     ]
    }
   ],
   "source": [
    "print(\"#To find the linear intercept\");\n",
    "print(regression.intercept_)"
   ]
  },
  {
   "cell_type": "code",
   "execution_count": 51,
   "id": "54eca76a-733f-4d1e-9473-077bc8321740",
   "metadata": {},
   "outputs": [
    {
     "name": "stdout",
     "output_type": "stream",
     "text": [
      "Prediction\n",
      "[10.94536423  8.06827567 10.78924417 ... 10.79770802 13.21194787\n",
      "  9.29401109]\n"
     ]
    }
   ],
   "source": [
    "prediction = regression.predict(X_test)\n",
    "print(\"Prediction\")\n",
    "print(prediction)"
   ]
  },
  {
   "cell_type": "code",
   "execution_count": 53,
   "id": "77c2299f-aebe-4191-bc14-063682cf2ce5",
   "metadata": {},
   "outputs": [
    {
     "name": "stdout",
     "output_type": "stream",
     "text": [
      "Y Test \n",
      "137384     8.10\n",
      "62615      7.50\n",
      "3098      11.00\n",
      "10235      7.70\n",
      "187118     2.50\n",
      "          ...  \n",
      "125942    22.25\n",
      "162666     3.50\n",
      "26469     10.00\n",
      "104910     9.00\n",
      "100909     8.10\n",
      "Name: fare_amount, Length: 66000, dtype: float64\n"
     ]
    }
   ],
   "source": [
    "print(\"Y Test \")\n",
    "print(y_test)"
   ]
  },
  {
   "cell_type": "code",
   "execution_count": 55,
   "id": "711c5efc-3a1b-4c4d-ace2-f599bdf4062f",
   "metadata": {},
   "outputs": [
    {
     "name": "stdout",
     "output_type": "stream",
     "text": [
      "R2 Score\n",
      "0.6673368068443333\n"
     ]
    }
   ],
   "source": [
    "from sklearn.metrics import r2_score\n",
    "print(\"R2 Score\")\n",
    "print(r2_score(y_test,prediction))"
   ]
  },
  {
   "cell_type": "code",
   "execution_count": 57,
   "id": "19be3b4e-47ec-4bbd-915c-c0d9fdcd3cd1",
   "metadata": {},
   "outputs": [
    {
     "name": "stdout",
     "output_type": "stream",
     "text": [
      "MSE\n",
      "9.802420191767698\n",
      "RMSE\n",
      "3.1308816955879535\n"
     ]
    }
   ],
   "source": [
    "from sklearn.metrics import mean_squared_error\n",
    "MSE = mean_squared_error(y_test,prediction)\n",
    "print(\"MSE\")\n",
    "print(MSE)\n",
    "print(\"RMSE\")\n",
    "RMSE = np.sqrt(MSE)\n",
    "print(RMSE)"
   ]
  },
  {
   "cell_type": "code",
   "execution_count": 59,
   "id": "b390cb64-f8e5-4968-8613-bfa5494b16ab",
   "metadata": {},
   "outputs": [
    {
     "name": "stdout",
     "output_type": "stream",
     "text": [
      "[ 9.448   6.775  11.375  ... 10.355  13.7675  7.396 ]\n"
     ]
    }
   ],
   "source": [
    "#Random Forest Regression\n",
    "from sklearn.ensemble import RandomForestRegressor\n",
    "#Here n_estimators means number of trees you want to build before making the prediction\n",
    "rf = RandomForestRegressor(n_estimators=100) \n",
    "rf.fit(X_train,y_train)\n",
    "y_pred = rf.predict(X_test)\n",
    "print(y_pred)"
   ]
  },
  {
   "cell_type": "code",
   "execution_count": 60,
   "id": "2eec5d1e-954b-4887-aa37-b8fc4528fa1a",
   "metadata": {},
   "outputs": [
    {
     "name": "stdout",
     "output_type": "stream",
     "text": [
      "R2 Random\n",
      "0.7982958868316123\n",
      "MSE_Random\n",
      "5.94351437839771\n",
      "RMSE\n",
      "2.4379323982419425\n"
     ]
    }
   ],
   "source": [
    "#Metrics evaluatin for Random Forest\n",
    "R2_Random = r2_score(y_test,y_pred)\n",
    "print(\"R2 Random\")\n",
    "print(R2_Random)\n",
    "print(\"MSE_Random\")\n",
    "MSE_Random = mean_squared_error(y_test,y_pred)\n",
    "print(MSE_Random)\n",
    "\n",
    "print(\"RMSE\")\n",
    "\n",
    "RMSE_Random = np.sqrt(MSE_Random)\n",
    "\n",
    "print(RMSE_Random)"
   ]
  },
  {
   "cell_type": "code",
   "execution_count": null,
   "id": "831e4f47-86c5-4ff4-9e23-d25d8b387c0a",
   "metadata": {},
   "outputs": [],
   "source": []
  },
  {
   "cell_type": "code",
   "execution_count": null,
   "id": "66bfc07a-43e2-48b8-becb-2821280f041d",
   "metadata": {},
   "outputs": [],
   "source": []
  },
  {
   "cell_type": "code",
   "execution_count": null,
   "id": "ba14194c-5a8b-46fb-b492-39d11e0108d5",
   "metadata": {},
   "outputs": [],
   "source": []
  }
 ],
 "metadata": {
  "kernelspec": {
   "display_name": "Python 3 (ipykernel)",
   "language": "python",
   "name": "python3"
  },
  "language_info": {
   "codemirror_mode": {
    "name": "ipython",
    "version": 3
   },
   "file_extension": ".py",
   "mimetype": "text/x-python",
   "name": "python",
   "nbconvert_exporter": "python",
   "pygments_lexer": "ipython3",
   "version": "3.12.4"
  }
 },
 "nbformat": 4,
 "nbformat_minor": 5
}
